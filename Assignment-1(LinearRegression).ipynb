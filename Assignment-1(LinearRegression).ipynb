{
 "cells": [
  {
   "cell_type": "code",
   "execution_count": 1,
   "id": "f34814fe",
   "metadata": {},
   "outputs": [
    {
     "data": {
      "text/plain": [
       "'C:\\\\Users\\\\User\\\\Downloads\\\\Machine Learning'"
      ]
     },
     "execution_count": 1,
     "metadata": {},
     "output_type": "execute_result"
    }
   ],
   "source": [
    "import os\n",
    "os.getcwd() # to get the loacation of Current Working Directory"
   ]
  },
  {
   "cell_type": "code",
   "execution_count": 2,
   "id": "1250badf",
   "metadata": {},
   "outputs": [],
   "source": [
    "import pandas as pd"
   ]
  },
  {
   "cell_type": "code",
   "execution_count": 3,
   "id": "50c125da",
   "metadata": {},
   "outputs": [
    {
     "data": {
      "text/html": [
       "<div>\n",
       "<style scoped>\n",
       "    .dataframe tbody tr th:only-of-type {\n",
       "        vertical-align: middle;\n",
       "    }\n",
       "\n",
       "    .dataframe tbody tr th {\n",
       "        vertical-align: top;\n",
       "    }\n",
       "\n",
       "    .dataframe thead th {\n",
       "        text-align: right;\n",
       "    }\n",
       "</style>\n",
       "<table border=\"1\" class=\"dataframe\">\n",
       "  <thead>\n",
       "    <tr style=\"text-align: right;\">\n",
       "      <th></th>\n",
       "      <th>Height</th>\n",
       "      <th>Weight</th>\n",
       "    </tr>\n",
       "  </thead>\n",
       "  <tbody>\n",
       "    <tr>\n",
       "      <th>0</th>\n",
       "      <td>73.847017</td>\n",
       "      <td>241.893563</td>\n",
       "    </tr>\n",
       "    <tr>\n",
       "      <th>1</th>\n",
       "      <td>68.781904</td>\n",
       "      <td>162.310473</td>\n",
       "    </tr>\n",
       "    <tr>\n",
       "      <th>2</th>\n",
       "      <td>74.110105</td>\n",
       "      <td>212.740856</td>\n",
       "    </tr>\n",
       "    <tr>\n",
       "      <th>3</th>\n",
       "      <td>71.730978</td>\n",
       "      <td>220.042470</td>\n",
       "    </tr>\n",
       "    <tr>\n",
       "      <th>4</th>\n",
       "      <td>69.881796</td>\n",
       "      <td>206.349801</td>\n",
       "    </tr>\n",
       "  </tbody>\n",
       "</table>\n",
       "</div>"
      ],
      "text/plain": [
       "      Height      Weight\n",
       "0  73.847017  241.893563\n",
       "1  68.781904  162.310473\n",
       "2  74.110105  212.740856\n",
       "3  71.730978  220.042470\n",
       "4  69.881796  206.349801"
      ]
     },
     "execution_count": 3,
     "metadata": {},
     "output_type": "execute_result"
    }
   ],
   "source": [
    "data = pd.read_csv(\"Height-Weight Data.csv\") # read data by pandas\n",
    "data.head() # show first five data"
   ]
  },
  {
   "cell_type": "code",
   "execution_count": 4,
   "id": "4aec4447",
   "metadata": {},
   "outputs": [],
   "source": [
    "import matplotlib.pyplot as plt # for visualization of data"
   ]
  },
  {
   "cell_type": "code",
   "execution_count": 5,
   "id": "89e748e0",
   "metadata": {},
   "outputs": [
    {
     "data": {
      "text/plain": [
       "Text(0, 0.5, 'Weight')"
      ]
     },
     "execution_count": 5,
     "metadata": {},
     "output_type": "execute_result"
    },
    {
     "data": {
      "image/png": "[encoded data removed]",
      "text/plain": [
       "<Figure size 432x288 with 1 Axes>"
      ]
     },
     "metadata": {
      "needs_background": "light"
     },
     "output_type": "display_data"
    }
   ],
   "source": [
    "# Data visualization by star marker\n",
    "plt.scatter(data['Height'], data['Weight'], marker=\"*\") # make a scatter of dataset\n",
    "plt.xlabel('Height') # to show the label of x or independent variable\n",
    "plt.ylabel('Weight') # to show the label of y or dependent variable"
   ]
  },
  {
   "cell_type": "code",
   "execution_count": 6,
   "id": "3d5a4737",
   "metadata": {},
   "outputs": [],
   "source": [
    "x = data[['Height']] # initialize varibale for independent data\n",
    "y = data['Weight'] # initialize varibale for dependent data"
   ]
  },
  {
   "cell_type": "code",
   "execution_count": 7,
   "id": "f7801b65",
   "metadata": {},
   "outputs": [],
   "source": [
    "from sklearn.model_selection import train_test_split # for the separation of data into train and test"
   ]
  },
  {
   "cell_type": "code",
   "execution_count": 8,
   "id": "4f3c95a9",
   "metadata": {},
   "outputs": [],
   "source": [
    "xtrain, xtest, ytrain, ytest = train_test_split(x, y, train_size =0.7, random_state = 1 ) # separate data with 70% and fixed"
   ]
  },
  {
   "cell_type": "code",
   "execution_count": 9,
   "id": "cc38eb8e",
   "metadata": {},
   "outputs": [
    {
     "data": {
      "text/html": [
       "<div>\n",
       "<style scoped>\n",
       "    .dataframe tbody tr th:only-of-type {\n",
       "        vertical-align: middle;\n",
       "    }\n",
       "\n",
       "    .dataframe tbody tr th {\n",
       "        vertical-align: top;\n",
       "    }\n",
       "\n",
       "    .dataframe thead th {\n",
       "        text-align: right;\n",
       "    }\n",
       "</style>\n",
       "<table border=\"1\" class=\"dataframe\">\n",
       "  <thead>\n",
       "    <tr style=\"text-align: right;\">\n",
       "      <th></th>\n",
       "      <th>Height</th>\n",
       "    </tr>\n",
       "  </thead>\n",
       "  <tbody>\n",
       "    <tr>\n",
       "      <th>221</th>\n",
       "      <td>66.786927</td>\n",
       "    </tr>\n",
       "    <tr>\n",
       "      <th>2696</th>\n",
       "      <td>65.192862</td>\n",
       "    </tr>\n",
       "    <tr>\n",
       "      <th>1334</th>\n",
       "      <td>68.390109</td>\n",
       "    </tr>\n",
       "    <tr>\n",
       "      <th>3402</th>\n",
       "      <td>68.145621</td>\n",
       "    </tr>\n",
       "    <tr>\n",
       "      <th>1159</th>\n",
       "      <td>71.647580</td>\n",
       "    </tr>\n",
       "    <tr>\n",
       "      <th>...</th>\n",
       "      <td>...</td>\n",
       "    </tr>\n",
       "    <tr>\n",
       "      <th>2763</th>\n",
       "      <td>68.457061</td>\n",
       "    </tr>\n",
       "    <tr>\n",
       "      <th>905</th>\n",
       "      <td>66.539812</td>\n",
       "    </tr>\n",
       "    <tr>\n",
       "      <th>1096</th>\n",
       "      <td>75.999957</td>\n",
       "    </tr>\n",
       "    <tr>\n",
       "      <th>235</th>\n",
       "      <td>70.555244</td>\n",
       "    </tr>\n",
       "    <tr>\n",
       "      <th>1061</th>\n",
       "      <td>70.269360</td>\n",
       "    </tr>\n",
       "  </tbody>\n",
       "</table>\n",
       "<p>2450 rows × 1 columns</p>\n",
       "</div>"
      ],
      "text/plain": [
       "         Height\n",
       "221   66.786927\n",
       "2696  65.192862\n",
       "1334  68.390109\n",
       "3402  68.145621\n",
       "1159  71.647580\n",
       "...         ...\n",
       "2763  68.457061\n",
       "905   66.539812\n",
       "1096  75.999957\n",
       "235   70.555244\n",
       "1061  70.269360\n",
       "\n",
       "[2450 rows x 1 columns]"
      ]
     },
     "execution_count": 9,
     "metadata": {},
     "output_type": "execute_result"
    }
   ],
   "source": [
    "xtrain # show independent train data"
   ]
  },
  {
   "cell_type": "code",
   "execution_count": 10,
   "id": "76d3bbc3",
   "metadata": {},
   "outputs": [
    {
     "data": {
      "text/plain": [
       "221     165.431242\n",
       "2696    185.348211\n",
       "1334    179.352182\n",
       "3402    197.476930\n",
       "1159    200.286509\n",
       "           ...    \n",
       "2763    186.208566\n",
       "905     175.093255\n",
       "1096    224.440459\n",
       "235     198.460249\n",
       "1061    192.307027\n",
       "Name: Weight, Length: 2450, dtype: float64"
      ]
     },
     "execution_count": 10,
     "metadata": {},
     "output_type": "execute_result"
    }
   ],
   "source": [
    "ytrain # show dependent train data"
   ]
  },
  {
   "cell_type": "code",
   "execution_count": 11,
   "id": "d55e1b65",
   "metadata": {},
   "outputs": [],
   "source": [
    "from sklearn.linear_model import LinearRegression # linear regression model for training and testing data"
   ]
  },
  {
   "cell_type": "code",
   "execution_count": 12,
   "id": "c60c4e6e",
   "metadata": {},
   "outputs": [],
   "source": [
    "reg = LinearRegression() # create an object of LinearRegression() "
   ]
  },
  {
   "cell_type": "code",
   "execution_count": 13,
   "id": "99c3bdc6",
   "metadata": {},
   "outputs": [
    {
     "data": {
      "text/plain": [
       "LinearRegression()"
      ]
     },
     "execution_count": 13,
     "metadata": {},
     "output_type": "execute_result"
    }
   ],
   "source": [
    "reg.fit(xtrain, ytrain) # fitting the training data in LinearRegression Model"
   ]
  },
  {
   "cell_type": "code",
   "execution_count": 14,
   "id": "7b36ce87",
   "metadata": {},
   "outputs": [
    {
     "data": {
      "text/plain": [
       "array([168.68563446])"
      ]
     },
     "execution_count": 14,
     "metadata": {},
     "output_type": "execute_result"
    }
   ],
   "source": [
    "m = reg.coef_  # taking co-efficient from LinearRegression Model \n",
    "c = reg.intercept_ # taking intercept from LinearRegression Model\n",
    "x = 66 # for implementation taking a demo independent data\n",
    "y = m * x + c # implement the general equation of straight line to see it match with predict data or not\n",
    "y"
   ]
  },
  {
   "cell_type": "code",
   "execution_count": 15,
   "id": "b4690077",
   "metadata": {},
   "outputs": [
    {
     "data": {
      "text/plain": [
       "array([168.68563446])"
      ]
     },
     "execution_count": 15,
     "metadata": {},
     "output_type": "execute_result"
    }
   ],
   "source": [
    "reg.predict([[66]]) # predict test with the general equation of straight line data"
   ]
  },
  {
   "cell_type": "code",
   "execution_count": 16,
   "id": "cb204b61",
   "metadata": {},
   "outputs": [],
   "source": [
    "data['predict_weight'] = reg.predict(data[['Height']]) # creating a new column of predicted result named as predict_weight"
   ]
  },
  {
   "cell_type": "code",
   "execution_count": 17,
   "id": "37ef06a6",
   "metadata": {},
   "outputs": [
    {
     "data": {
      "text/html": [
       "<div>\n",
       "<style scoped>\n",
       "    .dataframe tbody tr th:only-of-type {\n",
       "        vertical-align: middle;\n",
       "    }\n",
       "\n",
       "    .dataframe tbody tr th {\n",
       "        vertical-align: top;\n",
       "    }\n",
       "\n",
       "    .dataframe thead th {\n",
       "        text-align: right;\n",
       "    }\n",
       "</style>\n",
       "<table border=\"1\" class=\"dataframe\">\n",
       "  <thead>\n",
       "    <tr style=\"text-align: right;\">\n",
       "      <th></th>\n",
       "      <th>Height</th>\n",
       "      <th>Weight</th>\n",
       "      <th>predict_weight</th>\n",
       "    </tr>\n",
       "  </thead>\n",
       "  <tbody>\n",
       "    <tr>\n",
       "      <th>0</th>\n",
       "      <td>73.847017</td>\n",
       "      <td>241.893563</td>\n",
       "      <td>215.590782</td>\n",
       "    </tr>\n",
       "    <tr>\n",
       "      <th>1</th>\n",
       "      <td>68.781904</td>\n",
       "      <td>162.310473</td>\n",
       "      <td>185.314325</td>\n",
       "    </tr>\n",
       "    <tr>\n",
       "      <th>2</th>\n",
       "      <td>74.110105</td>\n",
       "      <td>212.740856</td>\n",
       "      <td>217.163380</td>\n",
       "    </tr>\n",
       "    <tr>\n",
       "      <th>3</th>\n",
       "      <td>71.730978</td>\n",
       "      <td>220.042470</td>\n",
       "      <td>202.942268</td>\n",
       "    </tr>\n",
       "    <tr>\n",
       "      <th>4</th>\n",
       "      <td>69.881796</td>\n",
       "      <td>206.349801</td>\n",
       "      <td>191.888873</td>\n",
       "    </tr>\n",
       "  </tbody>\n",
       "</table>\n",
       "</div>"
      ],
      "text/plain": [
       "      Height      Weight  predict_weight\n",
       "0  73.847017  241.893563      215.590782\n",
       "1  68.781904  162.310473      185.314325\n",
       "2  74.110105  212.740856      217.163380\n",
       "3  71.730978  220.042470      202.942268\n",
       "4  69.881796  206.349801      191.888873"
      ]
     },
     "execution_count": 17,
     "metadata": {},
     "output_type": "execute_result"
    }
   ],
   "source": [
    "data.head() # show first five result data"
   ]
  },
  {
   "cell_type": "code",
   "execution_count": 18,
   "id": "254e8be2",
   "metadata": {},
   "outputs": [
    {
     "data": {
      "text/plain": [
       "73"
      ]
     },
     "execution_count": 18,
     "metadata": {},
     "output_type": "execute_result"
    }
   ],
   "source": [
    "int(reg.score(xtest, ytest) * 100) # predict the accuracy in percent"
   ]
  },
  {
   "cell_type": "code",
   "execution_count": 19,
   "id": "45de7db4",
   "metadata": {},
   "outputs": [
    {
     "data": {
      "text/plain": [
       "Text(0, 0.5, 'Weight')"
      ]
     },
     "execution_count": 19,
     "metadata": {},
     "output_type": "execute_result"
    },
    {
     "data": {
      "image/png": "[encoded data removed]",
      "text/plain": [
       "<Figure size 432x288 with 1 Axes>"
      ]
     },
     "metadata": {
      "needs_background": "light"
     },
     "output_type": "display_data"
    }
   ],
   "source": [
    "plt.plot(data['Height'], data[['predict_weight']], color='black') # ploting result data with input data to see linear or not\n",
    "# Data visualization by star marker\n",
    "plt.scatter(data['Height'], data['Weight'], marker=\"*\")\n",
    "plt.xlabel('Height')\n",
    "plt.ylabel('Weight')"
   ]
  }
 ],
 "metadata": {
  "kernelspec": {
   "display_name": "Python 3",
   "language": "python",
   "name": "python3"
  },
  "language_info": {
   "codemirror_mode": {
    "name": "ipython",
    "version": 3
   },
   "file_extension": ".py",
   "mimetype": "text/x-python",
   "name": "python",
   "nbconvert_exporter": "python",
   "pygments_lexer": "ipython3",
   "version": "3.8.8"
  }
 },
 "nbformat": 4,
 "nbformat_minor": 5
}
